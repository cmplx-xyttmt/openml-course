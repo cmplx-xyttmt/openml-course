{
 "cells": [
  {
   "cell_type": "markdown",
   "metadata": {},
   "source": [
    "# Numpy Recap"
   ]
  },
  {
   "cell_type": "markdown",
   "metadata": {},
   "source": [
    "## Arrays\n",
    "We can initialize numpy arrays from nested Python lists and access elements using square brackets"
   ]
  },
  {
   "cell_type": "code",
   "execution_count": 1,
   "metadata": {},
   "outputs": [
    {
     "name": "stdout",
     "output_type": "stream",
     "text": [
      "Type of a:  <class 'numpy.ndarray'>\n",
      "Shape of a:  (3,)\n",
      "a[0]: 1 a[1]: 2 a[2]: 3\n",
      "Shape of b:  (2, 3)\n",
      "b[0, 0] = 1 b[1, 1] = 5 b[1, 2] = 6\n"
     ]
    }
   ],
   "source": [
    "import numpy as np\n",
    "\n",
    "a = np.array([1, 2, 3]) # Create Rank 1 array\n",
    "print(\"Type of a: \", type(a)) # Print type of a\n",
    "print(\"Shape of a: \", a.shape) # Print dimensions of a\n",
    "print(\"a[0]: {} a[1]: {} a[2]: {}\".format(a[0], a[1], a[2])) # Prints the elements of a\n",
    "a[0] = 5 # Change first element of a\n",
    "\n",
    "b = np.array([[1, 2, 3], [4, 5, 6]]) # Create a rank 2 array\n",
    "print(\"Shape of b: \", b.shape)\n",
    "print(\"b[0, 0] = {} b[1, 1] = {} b[1, 2] = {}\".format(b[0, 0], b[1, 1], b[1, 2])) # Same as b[i][j] for a 2d list."
   ]
  },
  {
   "cell_type": "markdown",
   "metadata": {},
   "source": [
    "Numpy also has many functions to create arrays."
   ]
  },
  {
   "cell_type": "code",
   "execution_count": 13,
   "metadata": {},
   "outputs": [
    {
     "name": "stdout",
     "output_type": "stream",
     "text": [
      "Array of zeros:\n",
      " [[0. 0.]\n",
      " [0. 0.]]\n",
      "\n",
      "Array of ones:\n",
      " [[1. 1.]]\n",
      "\n",
      "Constant array of 7s:\n",
      " [[7 7]\n",
      " [7 7]]\n",
      "\n",
      "2x2 Identity matrix:\n",
      " [[1. 0.]\n",
      " [0. 1.]]\n",
      "\n",
      "Random 2x2 array:\n",
      " [[0.19400201 0.88557686]\n",
      " [0.65087605 0.58858767]]\n"
     ]
    }
   ],
   "source": [
    "a = np.zeros((2, 2)) # Create an array of zeros\n",
    "print(\"Array of zeros:\\n\", a)\n",
    "\n",
    "b = np.ones((1, 2)) # Create an array of all ones\n",
    "print(\"\\nArray of ones:\\n\", b)\n",
    "\n",
    "c = np.full((2, 2), 7) # Create a constant array\n",
    "print(\"\\nConstant array of 7s:\\n\", c)\n",
    "\n",
    "d = np.eye(2)  # Create a 2x2 identity matrix\n",
    "print(\"\\n2x2 Identity matrix:\\n\", d)\n",
    "\n",
    "e = np.random.random((2, 2)) # Create an array filled with random values.\n",
    "print(\"\\nRandom 2x2 array:\\n\", e)"
   ]
  },
  {
   "cell_type": "markdown",
   "metadata": {},
   "source": [
    "## Array Indexing"
   ]
  },
  {
   "cell_type": "markdown",
   "metadata": {},
   "source": [
    "Numpy offers several ways to index into arrays e.g **slicing**, **integer array indexing**, **boolean array indexing**."
   ]
  },
  {
   "cell_type": "code",
   "execution_count": 14,
   "metadata": {},
   "outputs": [
    {
     "name": "stdout",
     "output_type": "stream",
     "text": [
      "Array b:\n",
      " [[2 3]\n",
      " [6 7]]\n",
      "Array a after modifiying b:\n",
      " [[ 1 77  3  4]\n",
      " [ 5  6  7  8]\n",
      " [ 9 10 11 12]]\n"
     ]
    }
   ],
   "source": [
    "# Slicing examples\n",
    "\n",
    "a = np.array([[1, 2, 3, 4], [5, 6, 7, 8], [9, 10, 11, 12]])\n",
    "\n",
    "# Pull out the subarray consisting of the first 2 rows and columns 1 and 2;\n",
    "b = a[:2, 1:3]\n",
    "print(\"Array b:\\n\", b)\n",
    "\n",
    "# Note: Modifying the slice of an array also modifies the original array.\n",
    "b[0, 0] = 77\n",
    "print(\"Array a after modifiying b:\\n\", a)"
   ]
  },
  {
   "cell_type": "markdown",
   "metadata": {},
   "source": [
    "You can mix integer indexing with slice indexing, however, this yields an array of lower rank than the original array."
   ]
  },
  {
   "cell_type": "code",
   "execution_count": 17,
   "metadata": {},
   "outputs": [
    {
     "name": "stdout",
     "output_type": "stream",
     "text": [
      "Rank 1 view of the second row of a:[5 6 7 8] Shape:(4,)\n",
      "Rank 2 view of the second row of a:[[5 6 7 8]] Shape:(1, 4)\n",
      "Rank 1 view of the second column of a:[ 2  6 10] Shape:(3,)\n",
      "Rank 2 view of the second column of a:[[ 2]\n",
      " [ 6]\n",
      " [10]] Shape:(3, 1)\n"
     ]
    }
   ],
   "source": [
    "a = np.array([[1, 2, 3, 4], [5, 6, 7, 8], [9, 10, 11, 12]])\n",
    "\n",
    "# Two ways of accessing the data in the middle row of the array.\n",
    "# Mixing integer indexing with slices yields an array of lower rank,\n",
    "# while using only slices yields an array of the same rank as the original array\n",
    "row_r1 = a[1, : ]\n",
    "row_r2 = a[1:2, : ]\n",
    "print(\"Rank 1 view of the second row of a:{} Shape:{}\".format(row_r1, row_r1.shape))\n",
    "print(\"Rank 2 view of the second row of a:{} Shape:{}\".format(row_r2, row_r2.shape))\n",
    "\n",
    "# Similarly for columns\n",
    "col_r1 = a[:, 1]\n",
    "col_r2 = a[:, 1:2]\n",
    "print(\"Rank 1 view of the second column of a:{} Shape:{}\".format(col_r1, col_r1.shape))\n",
    "print(\"Rank 2 view of the second column of a:{} Shape:{}\".format(col_r2, col_r2.shape))"
   ]
  },
  {
   "cell_type": "markdown",
   "metadata": {},
   "source": [
    "Integer array indexing allows to create arbitrary arrays using the data from another array (as opposed to slicing where the resulting array will always be a subarray of the original array)"
   ]
  },
  {
   "cell_type": "code",
   "execution_count": 20,
   "metadata": {},
   "outputs": [
    {
     "name": "stdout",
     "output_type": "stream",
     "text": [
      "[1 4 5]\n",
      "[1 4 5]\n",
      "[2 2]\n",
      "Array b:\n",
      " [[ 1  2  3]\n",
      " [ 4  5  6]\n",
      " [ 7  8  9]\n",
      " [10 11 12]]\n",
      "Elements in each row of b from indices in c:\n",
      " [ 1  6  7 11]\n",
      "Array b after mutating:\n",
      " [[11  2  3]\n",
      " [ 4  5 16]\n",
      " [17  8  9]\n",
      " [10 21 12]]\n"
     ]
    }
   ],
   "source": [
    "a = np.array([[1, 2], [3, 4], [5, 6]])\n",
    "\n",
    "print(a[[0, 1, 2], [0, 1, 0]])\n",
    "\n",
    "# The above is equivalent to this:\n",
    "print(np.array([a[0, 0], a[1, 1], a[2, 0]]))\n",
    "\n",
    "# When using integer array indexing, you can reuse the same element from the source array.\n",
    "# The following is equivalent to np.array([a[0, 1], a[0, 1]])\n",
    "print(a[[0, 0], [1, 1]])\n",
    "\n",
    "# Using integer array indexing to select or mutate one element from each row of a matrix:\n",
    "b = np.array([[1, 2, 3], [4, 5, 6], [7, 8, 9], [10, 11, 12]])\n",
    "print(\"Array b:\\n\", b)\n",
    "\n",
    "# Create an array of indices\n",
    "c = np.array([0, 2, 0, 1])\n",
    "\n",
    "# Select one element from each row of b using the indices in c\n",
    "print(\"Elements in each row of b from indices in c:\\n\", b[np.arange(4), c])\n",
    "\n",
    "# Mutate one element from each row of b using the indices in c\n",
    "b[np.arange(4), c] += 10\n",
    "print(\"Array b after mutating:\\n\", b)"
   ]
  },
  {
   "cell_type": "markdown",
   "metadata": {},
   "source": [
    "**Boolean array indexing** lets you pick out arbitrary elements of an array. Frequently this type of indexing is used to select the elements of an array that satisfy some condition."
   ]
  },
  {
   "cell_type": "code",
   "execution_count": 21,
   "metadata": {},
   "outputs": [
    {
     "name": "stdout",
     "output_type": "stream",
     "text": [
      "[[False False]\n",
      " [ True  True]\n",
      " [ True  True]]\n",
      "[3 4 5 6]\n",
      "[3 4 5 6]\n"
     ]
    }
   ],
   "source": [
    "a = np.array([[1, 2], [3, 4], [5, 6]])\n",
    "bool_idx = (a > 2) # Find elements of a that are bigger than 2;\n",
    "print(bool_idx)\n",
    "\n",
    "# We can use boolean array indexing to construct a rank 1 array consisting of the elements \n",
    "# of a corresponding to the True values of bool_idx\n",
    "print(a[bool_idx])\n",
    "\n",
    "# All the above is equivalent to the following:\n",
    "print(a[a > 2])"
   ]
  },
  {
   "cell_type": "markdown",
   "metadata": {},
   "source": [
    "## Data types\n",
    "Every numpy array is a grid of elements of the same type."
   ]
  },
  {
   "cell_type": "code",
   "execution_count": 24,
   "metadata": {},
   "outputs": [
    {
     "name": "stdout",
     "output_type": "stream",
     "text": [
      "int64\n",
      "float64\n",
      "[1 2]\n",
      "int64\n"
     ]
    }
   ],
   "source": [
    "x = np.array([1, 2]) # Let numpy choose the datatype\n",
    "print(x.dtype)\n",
    "\n",
    "x = np.array([1., 2.])\n",
    "print(x.dtype)\n",
    "\n",
    "x = np.array([1., 2.], dtype=np.int64) # Force a particular data type\n",
    "print(x)\n",
    "print(x.dtype)"
   ]
  },
  {
   "cell_type": "markdown",
   "metadata": {},
   "source": [
    "## Array math\n",
    "Basic mathematical functions operate elementwise on arrays, and are available both as operator overloads and as functions in the numpy module."
   ]
  },
  {
   "cell_type": "code",
   "execution_count": 25,
   "metadata": {},
   "outputs": [
    {
     "name": "stdout",
     "output_type": "stream",
     "text": [
      "[[ 6.  8.]\n",
      " [10. 12.]]\n",
      "[[4. 4.]\n",
      " [4. 4.]]\n",
      "[[ 5. 12.]\n",
      " [21. 32.]]\n",
      "[[0.2        0.33333333]\n",
      " [0.42857143 0.5       ]]\n",
      "[[1.         1.41421356]\n",
      " [1.73205081 2.        ]]\n"
     ]
    }
   ],
   "source": [
    "x = np.array([[1, 2], [3, 4]], dtype=np.float64)\n",
    "y = np.array([[5, 6], [7, 8]], dtype=np.float64)\n",
    "\n",
    "# Elementwise sum. (Can also use np.add(x, y))\n",
    "print(x + y)\n",
    "\n",
    "# Elementwise difference\n",
    "print(y - x)\n",
    "\n",
    "# Elementwise product\n",
    "print(x * y)\n",
    "\n",
    "# Elementwise division\n",
    "print(x / y)\n",
    "\n",
    "# Elementwise square root\n",
    "print(np.sqrt(x))"
   ]
  },
  {
   "cell_type": "markdown",
   "metadata": {},
   "source": [
    "The `dot` function is used to compute inner products of vectors, to multiply a vector by a matrix and to multiply matrices. `dot` is available both as function in the numpy module and as an instance method of array objects."
   ]
  },
  {
   "cell_type": "code",
   "execution_count": 28,
   "metadata": {},
   "outputs": [
    {
     "name": "stdout",
     "output_type": "stream",
     "text": [
      "v . w =  219\n",
      "x * v =  [29 67]\n",
      "x * y = \n",
      " [[19 22]\n",
      " [43 50]]\n"
     ]
    }
   ],
   "source": [
    "x = np.array([[1, 2], [3, 4]])\n",
    "y = np.array([[5, 6], [7, 8]])\n",
    "\n",
    "v = np.array([9, 10])\n",
    "w = np.array([11, 12])\n",
    "\n",
    "# Inner product of vectors; can also use np.dot(v, w)\n",
    "print(\"v . w = \", v.dot(w))\n",
    "\n",
    "# Matrix / vector product;\n",
    "print(\"x * v = \", x.dot(v))\n",
    "\n",
    "# Matrix / matrix product; both produce the rank 2 array\n",
    "print(\"x * y = \\n\", x.dot(y))"
   ]
  },
  {
   "cell_type": "code",
   "execution_count": 29,
   "metadata": {},
   "outputs": [
    {
     "name": "stdout",
     "output_type": "stream",
     "text": [
      "Sum of elements in x:  10\n",
      "Sum of each column of x:  [4 6]\n",
      "Sum of each row of x:  [3 7]\n"
     ]
    }
   ],
   "source": [
    "# Sum\n",
    "x = np.array([[1, 2], [3, 4]])\n",
    "\n",
    "print(\"Sum of elements in x: \", np.sum(x))\n",
    "print(\"Sum of each column of x: \", np.sum(x, axis=0))\n",
    "print(\"Sum of each row of x: \", np.sum(x, axis=1))"
   ]
  },
  {
   "cell_type": "code",
   "execution_count": 31,
   "metadata": {},
   "outputs": [
    {
     "name": "stdout",
     "output_type": "stream",
     "text": [
      "x:\n",
      " [[1 2]\n",
      " [3 4]]\n",
      "x transpose:\n",
      " [[1 3]\n",
      " [2 4]]\n",
      "Rank 1 array v:  [1 2 3]\n",
      "Transpose of v:  [1 2 3]\n"
     ]
    }
   ],
   "source": [
    "# Transpose\n",
    "x = np.array([[1, 2], [3, 4]])\n",
    "print(\"x:\\n\", x)\n",
    "\n",
    "print(\"x transpose:\\n\", x.T)\n",
    "\n",
    "# Note that taking the transpose of a rank 1 array does nothing:\n",
    "v = np.array([1, 2, 3])\n",
    "print(\"Rank 1 array v: \", v)\n",
    "print(\"Transpose of v: \", v.T)"
   ]
  },
  {
   "cell_type": "markdown",
   "metadata": {},
   "source": [
    "## Broadcasting\n",
    "Broadcasting allows numpy to work with arrays of different shapes when performing arithmetic operations. Frequently we have a smaller array and a larger array, and we want to use the smaller array multiple times to perform some operation on the larger array."
   ]
  },
  {
   "cell_type": "code",
   "execution_count": 41,
   "metadata": {},
   "outputs": [
    {
     "name": "stdout",
     "output_type": "stream",
     "text": [
      "y:\n",
      " [[ 2  2  4]\n",
      " [ 5  5  7]\n",
      " [ 8  8 10]\n",
      " [11 11 13]]\n"
     ]
    }
   ],
   "source": [
    "# Add a constant vector to each row of a matrix\n",
    "x = np.array([[1, 2, 3], [4, 5, 6], [7, 8, 9], [10, 11, 12]])\n",
    "v = np.array([1, 0, 1])\n",
    "y = x + v  # Using broadcasting to add v to each row of x\n",
    "\n",
    "print(\"y:\\n\", y)"
   ]
  },
  {
   "cell_type": "markdown",
   "metadata": {},
   "source": [
    "Broadcasting two arrays together follows these rules:\n",
    "1. If the arrays do not have the same rank, prepend the shape of the lower rank array with 1s until both shapes have the same length\n",
    "2. The two arrays are said to be compatible in a dimension if they have the same size in the dimension, or if one of the arrays has size 1 in that dimension.\n",
    "3. The arrays can be broadcast together if they are compatible in all dimensions.\n",
    "4. After broadcasting, each array behaves as if it had shape equal to the elementwise maximum of shapes of the two input arrays.\n",
    "5. In any dimension where one array had size 1 and the other array had size greater than 1, the first array behaves as if it were copied along that dimension.\n",
    "\n",
    "Functions that support broadcating are called [universal functions](http://docs.scipy.org/doc/numpy/reference/ufuncs.html#available-ufuncs)."
   ]
  },
  {
   "cell_type": "code",
   "execution_count": 45,
   "metadata": {},
   "outputs": [
    {
     "name": "stdout",
     "output_type": "stream",
     "text": [
      "v (reshaped) * w =\n",
      " [[ 4  5]\n",
      " [ 8 10]\n",
      " [12 15]]\n",
      "x + v:\n",
      " [[2 4 6]\n",
      " [5 7 9]]\n",
      "column add: x + w:\n",
      " [[ 5  6  7]\n",
      " [ 9 10 11]]\n",
      "column add: x + w:\n",
      " [[ 5  6  7]\n",
      " [ 9 10 11]]\n",
      "x * 2=\n",
      " [[ 2  4  6]\n",
      " [ 8 10 12]]\n"
     ]
    }
   ],
   "source": [
    "# Applications of broadcasting\n",
    "\n",
    "# Compute the outer product of vectors\n",
    "v = np.array([1, 2, 3]) # v has shape (3,)\n",
    "w = np.array([4, 5]) # w has shape (2,)\n",
    "\n",
    "# To compute an outer product, we first reshape v to be a column\n",
    "# vector of shape (3, 1); we can then broadcast it against w to yield\n",
    "# an output of shape (3, 2), which is the outer product of v and w.\n",
    "print(\"v (reshaped) * w =\\n\", np.reshape(v, (3, 1)) * w)\n",
    "\n",
    "# Add a vector to each row of a matrix\n",
    "x = np.array([[1, 2, 3], [4, 5, 6]])\n",
    "print(\"x + v:\\n\", x + v)\n",
    "\n",
    "# Add a vector to each column of a matrix\n",
    "print(\"column add: x + w:\\n\", (x.T + w).T)\n",
    "# Another way is to reshape w into a column vector and broadcast it directly against x\n",
    "print(\"column add: x + w:\\n\", x + np.reshape(w, (2, 1)))\n",
    "\n",
    "# Multiply a matrix by a constant. Numpy treats scalars as arrays of shape ()\n",
    "print(\"x * 2=\\n\", x * 2)"
   ]
  },
  {
   "cell_type": "markdown",
   "metadata": {},
   "source": [
    "For more about numpy, checkout the [documentation](http://docs.scipy.org/doc/numpy/reference/)."
   ]
  }
 ],
 "metadata": {
  "kernelspec": {
   "display_name": "Python 3",
   "language": "python",
   "name": "python3"
  },
  "language_info": {
   "codemirror_mode": {
    "name": "ipython",
    "version": 3
   },
   "file_extension": ".py",
   "mimetype": "text/x-python",
   "name": "python",
   "nbconvert_exporter": "python",
   "pygments_lexer": "ipython3",
   "version": "3.8.2"
  }
 },
 "nbformat": 4,
 "nbformat_minor": 4
}
